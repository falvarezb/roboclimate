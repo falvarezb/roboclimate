{
 "cells": [
  {
   "cell_type": "code",
   "execution_count": 1,
   "metadata": {},
   "outputs": [],
   "source": [
    "import warnings\n",
    "warnings.simplefilter('ignore')"
   ]
  },
  {
   "cell_type": "code",
   "execution_count": 2,
   "metadata": {},
   "outputs": [
    {
     "data": {
      "application/javascript": [
       "IPython.OutputArea.prototype._should_scroll = function(lines) {\n",
       "    return false;\n",
       "}\n"
      ],
      "text/plain": [
       "<IPython.core.display.Javascript object>"
      ]
     },
     "metadata": {},
     "output_type": "display_data"
    }
   ],
   "source": [
    "%%javascript\n",
    "IPython.OutputArea.prototype._should_scroll = function(lines) {\n",
    "    return false;\n",
    "}"
   ]
  },
  {
   "cell_type": "code",
   "execution_count": 3,
   "metadata": {
    "scrolled": false
   },
   "outputs": [],
   "source": [
    "import pandas as pd\n",
    "import numpy as np\n",
    "# %matplotlib inline\n",
    "%matplotlib widget\n",
    "import ipywidgets as widgets\n",
    "import matplotlib.pyplot as plt\n",
    "from sklearn.metrics import mean_absolute_error as mae"
   ]
  },
  {
   "cell_type": "code",
   "execution_count": 4,
   "metadata": {},
   "outputs": [],
   "source": [
    "# load libraries and set plot parameters\n",
    "\n",
    "# from IPython.display import set_matplotlib_formats\n",
    "# set_matplotlib_formats('pdf', 'png')\n",
    "# plt.rcParams['savefig.dpi'] = 75\n",
    "\n",
    "# plt.rcParams['figure.autolayout'] = False\n",
    "# plt.rcParams['figure.figsize'] = 10, 6\n",
    "# plt.rcParams['axes.labelsize'] = 18\n",
    "# plt.rcParams['axes.titlesize'] = 20\n",
    "# plt.rcParams['font.size'] = 16\n",
    "# plt.rcParams['lines.linewidth'] = 2.0\n",
    "# plt.rcParams['lines.markersize'] = 8\n",
    "# plt.rcParams['legend.fontsize'] = 14\n",
    "\n",
    "# plt.rcParams['text.usetex'] = True\n",
    "# plt.rcParams['font.family'] = \"serif\"\n",
    "# plt.rcParams['font.serif'] = \"cm\"\n",
    "# plt.rcParams['text.latex.preamble'] = \"\\usepackage{subdepth}, \\usepackage{type1cm}\""
   ]
  },
  {
   "cell_type": "code",
   "execution_count": 5,
   "metadata": {},
   "outputs": [],
   "source": [
    "import roboclimate.util as rutil\n",
    "import datetime as dt\n",
    "import roboclimate.data_quality as rdq\n",
    "import roboclimate.config as rconf"
   ]
  },
  {
   "cell_type": "markdown",
   "metadata": {},
   "source": [
    "# Table of Contents\n",
    "\n",
    "* [Introduction](#intro)\n",
    "* [Models](#models)\n",
    "* [Metrics](#metrics)\n",
    "* [Data collection](#data_collection)\n",
    "* [Data analysis](#data_analysis)\n",
    "    * [Data quality](#data_quality)\n",
    "    * [Actual vs Forecast](#actual_vs_forecast)\n",
    "    * [Metrics comparison](#metrics_comparison)\n",
    "    * [Cities comparison](#cities_comparison)"
   ]
  },
  {
   "cell_type": "markdown",
   "metadata": {},
   "source": [
    "<a id=\"intro\"></a>\n",
    "# Introduction\n",
    "\n",
    "Have you ever complained about the weatherman failing to predict the weather correctly?\n",
    "\n",
    "That's the question we aim to answer here: how reliable are the weather forecasts?\n",
    "\n",
    "To do so we compare the accuracy of different weather models ranging from a naive approach to sophisticated meteorological models.\n",
    "\n",
    "The scope of this analysis is restricted to the **temperature** in five locations around the world, namely:\n",
    "\n",
    "- London\n",
    "- Madrid\n",
    "- Sydney\n",
    "- New York\n",
    "- Sao Paulo"
   ]
  },
  {
   "cell_type": "markdown",
   "metadata": {},
   "source": [
    "<a id=\"models\"></a>\n",
    "# Models\n",
    "\n",
    "\n",
    "### Naive forecast\n",
    "\n",
    "Consists in assuming that the next value is the same as the one of the last period.\n",
    "\n",
    "The tricky part is to identify what the last value is. For instance, if we measure the temperature\n",
    "every 3 hours and we want to predict the temperature today at 3pm, what is the last value: today's temperature at 12pm, yesterday's temperature at 3pm or maybe last year's temperature on the same day at 3pm?\n",
    "\n",
    "\n",
    "### Average values\n",
    "\n",
    "Following with the previous example, we could use the average of the temperature over the last 20\n",
    "years on the same day at 3pm\n",
    "\n",
    "\n",
    "### Meteorological models\n",
    "\n",
    "Provided by [OpenWeather](https://openweathermap.org/technology)"
   ]
  },
  {
   "cell_type": "markdown",
   "metadata": {},
   "source": [
    "<a id=\"metrics\"></a>\n",
    "# Metrics\n",
    "\n",
    "Metrics are used to evaluate the accuracy of the models' predictions when compared to the actual values.\n",
    "\n",
    "\n",
    "## Mean absolute scaled error (MASE)\n",
    "\n",
    "Mean absolute scaled error is a measure of the precision of a model compared to the naive forecast.\n",
    "\n",
    "It is calculated as the mean absolute error of the forecast values predicted by the model divided by the mean absolute error of the naive forecast.\n",
    "\n",
    "Values greater than one indicate that the naive method performs better than the more sophisticated forecast methods.\n",
    "\n",
    "### Example\n",
    "\n",
    "If $t^1$ is the 1-day forecast made on _2020-11-22 18:00_ for _2020-11-23 18:00_, the naive forecast is the actual temperature on _2020-11-22 18:00_.\n",
    "\n",
    "Equally, if $t^2$ is the 2-day forecast made on _2020-11-21 18:00_ for _2020-11-23 18:00_, the naive forecast is the actual temperature on _2020-11-21 18:00_.\n",
    "\n",
    "And so on for $t^3, t^4$ and $t^5$.\n",
    "\n",
    "Considering that everyday contains 8 forecasts (one every 3 hours), the mean absolute scaled error $mase^j$ corresponding to the _j-day_ forecast can be expressed as (where $t$ is the actual temperature):\n",
    "\n",
    "$$\n",
    "mase^j=\\frac{\\displaystyle\\sum_{i} \\lvert {t_i - t_i^j} \\rvert}{\\displaystyle\\sum_{i} \\lvert {t_i - t_{i-8j}} \\rvert} \n",
    "$$\n",
    "\n",
    "In other words, the _mase_ estimates how good the forecast $t^j$ is compared to just assuming that the temperature in $j$ days time will be the same as when the forecast $t^j$ is made.\n",
    "\n",
    "\n",
    "### 1-year mase\n",
    "\n",
    "For those locations with enough data, we also calculate the _mase_ based on the temperature 1 year ago.\n",
    "\n",
    "\n",
    "\n",
    "## Mean absolute error (MAE)\n",
    "\n",
    "Average of the absolute value of the errors (the errors being the differences between predicted and real values)\n",
    "\n",
    "## Root mean squared error (RMSE)\n",
    "\n",
    "Square root of the average of the square of the errors\n",
    "\n",
    "It weighs outliers more heavily than MAE as a result of the squaring of each term, which effectively weighs large errors more heavily than small ones\n",
    "\n",
    "## Median absolute error (MEDAE)\n",
    "\n",
    "Median of the absolute value of the errors.\n",
    "\n",
    "It is robust to outliers"
   ]
  },
  {
   "cell_type": "markdown",
   "metadata": {},
   "source": [
    "<a id=\"data_collection\"></a>\n",
    "# Data collection\n",
    "\n",
    "\n",
    "This page collects data about the actual weather and the meteorological forecast for the following 5 days.\n",
    "\n",
    "This data is obtained from [OpenWeather](https://openweathermap.org) through the endpoints:\n",
    "\n",
    "- current weather data\n",
    "- 5 day forecast\n",
    "\n",
    "Given that the 5 day forecast endpoint only provides data every 3 hours (00:00, 03:00, 06:00, 09:00, 12:00, 15:00, 18:00, 21:00), those are also the data points for which the current weather data is read.\n",
    "\n",
    "As a result, for every given temperature there are 5 forecasts: $t_5, t_4, t_3, t_2$ and $t_1$, where $t_n$ is the forecast made $n$ days before."
   ]
  },
  {
   "cell_type": "markdown",
   "metadata": {},
   "source": [
    "<a id=\"data_analysis\"></a>\n",
    "# Data analysis"
   ]
  },
  {
   "cell_type": "code",
   "execution_count": 6,
   "metadata": {
    "scrolled": false
   },
   "outputs": [],
   "source": [
    "city_name = {\"london\":\"London\", \"madrid\":\"Madrid\", \"saopaulo\":\"Sao Paulo\", \"sydney\":\"Sydney\", \"newyork\":\"New York\", \"asuncion\": \"Asuncion\", \"tokyo\": \"Tokyo\", \"moscow\": \"Moscow\", \"lagos\":\"Lagos\",\"nairobi\":\"Nairobi\"}"
   ]
  },
  {
   "cell_type": "markdown",
   "metadata": {},
   "source": [
    "<a id=\"data_quality\"></a>\n",
    "## Data quality\n",
    "\n",
    "First step of the data analysis is to check the data quality"
   ]
  },
  {
   "cell_type": "markdown",
   "metadata": {},
   "source": [
    "### Missing temperatures\n",
    "Finds dts for which the temperature was not recorded. As per today (2021-01-21), only New York failed to record a temperature, the one corresponding to `1593475200 = 2020-06-30T00:00:00`"
   ]
  },
  {
   "cell_type": "code",
   "execution_count": 7,
   "metadata": {
    "scrolled": true
   },
   "outputs": [
    {
     "name": "stdout",
     "output_type": "stream",
     "text": [
      "london\n",
      "      temp          dt today_x     today_y      _merge\n",
      "4572   NaN  1624287600     NaN  2021-06-21  right_only\n",
      "madrid\n",
      "      temp          dt today_x     today_y      _merge\n",
      "3590   NaN  1630670400     NaN  2021-09-03  right_only\n",
      "saopaulo\n",
      "      temp          dt today_x     today_y      _merge\n",
      "3633   NaN  1631134800     NaN  2021-09-08  right_only\n",
      "sydney\n",
      "      temp          dt today_x     today_y      _merge\n",
      "1951   NaN  1612969200     NaN  2021-02-10  right_only\n",
      "1964   NaN  1613109600     NaN  2021-02-12  right_only\n",
      "1998   NaN  1613476800     NaN  2021-02-16  right_only\n",
      "newyork\n",
      "      temp          dt today_x     today_y      _merge\n",
      "2999   NaN  1624287600     NaN  2021-06-21  right_only\n",
      "moscow\n",
      "Empty DataFrame\n",
      "Columns: [temp, dt, today_x, today_y, _merge]\n",
      "Index: []\n",
      "tokyo\n",
      "      temp          dt today_x     today_y      _merge\n",
      "1107   NaN  1623672000     NaN  2021-06-14  right_only\n",
      "nairobi\n",
      "     temp          dt today_x     today_y      _merge\n",
      "131   NaN  1613131200     NaN  2021-02-12  right_only\n",
      "asuncion\n",
      "      temp          dt today_x     today_y      _merge\n",
      "126    NaN  1613077200     NaN  2021-02-11  right_only\n",
      "131    NaN  1613131200     NaN  2021-02-12  right_only\n",
      "140    NaN  1613228400     NaN  2021-02-13  right_only\n",
      "163    NaN  1613476800     NaN  2021-02-16  right_only\n",
      "164    NaN  1613487600     NaN  2021-02-16  right_only\n",
      "172    NaN  1613574000     NaN  2021-02-17  right_only\n",
      "182    NaN  1613682000     NaN  2021-02-18  right_only\n",
      "184    NaN  1613703600     NaN  2021-02-19  right_only\n",
      "196    NaN  1613833200     NaN  2021-02-20  right_only\n",
      "212    NaN  1614006000     NaN  2021-02-22  right_only\n",
      "1458   NaN  1627462800     NaN  2021-07-28  right_only\n",
      "lagos\n",
      "      temp          dt today_x     today_y      _merge\n",
      "111    NaN  1612915200     NaN  2021-02-10  right_only\n",
      "116    NaN  1612969200     NaN  2021-02-10  right_only\n",
      "127    NaN  1613088000     NaN  2021-02-12  right_only\n",
      "135    NaN  1613174400     NaN  2021-02-13  right_only\n",
      "148    NaN  1613314800     NaN  2021-02-14  right_only\n",
      "154    NaN  1613379600     NaN  2021-02-15  right_only\n",
      "1296   NaN  1625713200     NaN  2021-07-08  right_only\n",
      "1827   NaN  1631448000     NaN  2021-09-12  right_only\n"
     ]
    }
   ],
   "source": [
    "for city in rconf.cities.values():\n",
    "    print(city.name)\n",
    "    print(rdq.missing_temps(city, 'temp', end_dt=dt.datetime.combine(dt.date.today(), dt.time.min, dt.timezone.utc)))"
   ]
  },
  {
   "cell_type": "markdown",
   "metadata": {},
   "source": [
    "### Unexpected temperatures\n",
    "\n",
    "Finds temperatures recorded at the wrong dts, namely, any dt other than the ones corresponding to the times 0,3,6,9,12,15,18,21 of each day.\n",
    "\n",
    "Again, the only case is New York, and now it is clear why we found a missing temperature previously. The temperature, instead was not recorded at `1593475200` but 2 seconds later at `1593475202`"
   ]
  },
  {
   "cell_type": "code",
   "execution_count": 8,
   "metadata": {
    "scrolled": true
   },
   "outputs": [
    {
     "name": "stdout",
     "output_type": "stream",
     "text": [
      "london\n",
      "Empty DataFrame\n",
      "Columns: [temp, dt, today_x, today_y, _merge]\n",
      "Index: []\n",
      "madrid\n",
      "Empty DataFrame\n",
      "Columns: [temp, dt, today_x, today_y, _merge]\n",
      "Index: []\n",
      "saopaulo\n",
      "Empty DataFrame\n",
      "Columns: [temp, dt, today_x, today_y, _merge]\n",
      "Index: []\n",
      "sydney\n",
      "       temp          dt     today_x today_y     _merge\n",
      "1951  19.60  1612969258  2021-02-10     NaN  left_only\n",
      "1964  33.76  1613109633  2021-02-12     NaN  left_only\n",
      "1998  20.26  1613476843  2021-02-16     NaN  left_only\n",
      "newyork\n",
      "Empty DataFrame\n",
      "Columns: [temp, dt, today_x, today_y, _merge]\n",
      "Index: []\n",
      "moscow\n",
      "Empty DataFrame\n",
      "Columns: [temp, dt, today_x, today_y, _merge]\n",
      "Index: []\n",
      "tokyo\n",
      "Empty DataFrame\n",
      "Columns: [temp, dt, today_x, today_y, _merge]\n",
      "Index: []\n",
      "nairobi\n",
      "      temp          dt     today_x today_y     _merge\n",
      "131  25.15  1613131249  2021-02-12     NaN  left_only\n",
      "asuncion\n",
      "     temp          dt     today_x today_y     _merge\n",
      "126  27.0  1613077231  2021-02-11     NaN  left_only\n",
      "131  24.0  1613131331  2021-02-12     NaN  left_only\n",
      "140  30.0  1613228435  2021-02-13     NaN  left_only\n",
      "163  27.0  1613476865  2021-02-16     NaN  left_only\n",
      "164  30.0  1613487728  2021-02-16     NaN  left_only\n",
      "172  29.0  1613574037  2021-02-17     NaN  left_only\n",
      "182  32.0  1613682036  2021-02-18     NaN  left_only\n",
      "184  23.0  1613703667  2021-02-19     NaN  left_only\n",
      "196  30.0  1613833250  2021-02-20     NaN  left_only\n",
      "212  33.0  1614006033  2021-02-22     NaN  left_only\n",
      "lagos\n",
      "       temp          dt     today_x today_y     _merge\n",
      "111   28.25  1612915233  2021-02-10     NaN  left_only\n",
      "116   29.88  1612969259  2021-02-10     NaN  left_only\n",
      "127   28.00  1613088033  2021-02-12     NaN  left_only\n",
      "135   28.00  1613174434  2021-02-13     NaN  left_only\n",
      "148   34.00  1613314849  2021-02-14     NaN  left_only\n",
      "154   28.80  1613379636  2021-02-15     NaN  left_only\n",
      "1296  25.90  1625713263  2021-07-08     NaN  left_only\n"
     ]
    }
   ],
   "source": [
    "for city in rconf.cities.values():\n",
    "    print(city.name)\n",
    "    print(rdq.unexpected_temps(city, 'temp', end_dt=dt.datetime.combine(dt.date.today() + dt.timedelta(1), dt.time.min, dt.timezone.utc)))"
   ]
  },
  {
   "cell_type": "markdown",
   "metadata": {},
   "source": [
    "### Temperatures without the 5 forecasts\n",
    "Finds dts for which all five forecasts were not made.\n",
    "Obviously, the first 5 days after starting to take measurements cannot have all the 5 previous forecasts.\n",
    "\n",
    "In addition, the following cities failed to collect all 5 forecasts during the periods:\n",
    "\n",
    "- Madrid, between 2020-10-06 and 2020-10-10\n",
    "- Sao Paulo, betwen 2020-10-26 and 2020-10-30\n",
    "\n",
    "That means that Madrid must have failed to record the forecast on 2020-10-05 and Sao Paulo on 2020-10-25 "
   ]
  },
  {
   "cell_type": "code",
   "execution_count": 9,
   "metadata": {},
   "outputs": [
    {
     "name": "stdout",
     "output_type": "stream",
     "text": [
      "london\n",
      "today_y\n",
      "2019-11-28    7\n",
      "2019-11-29    8\n",
      "2019-11-30    8\n",
      "2019-12-01    8\n",
      "2019-12-02    8\n",
      "             ..\n",
      "2021-09-09    8\n",
      "2021-09-10    8\n",
      "2021-09-11    8\n",
      "2021-09-12    8\n",
      "2021-09-13    8\n",
      "Name: _merge, Length: 88, dtype: int64\n",
      "madrid\n",
      "today_y\n",
      "2020-06-11    2\n",
      "2020-06-12    8\n",
      "2020-06-13    8\n",
      "2020-06-14    8\n",
      "2020-06-15    8\n",
      "             ..\n",
      "2021-09-09    8\n",
      "2021-09-10    8\n",
      "2021-09-11    8\n",
      "2021-09-12    8\n",
      "2021-09-13    8\n",
      "Name: _merge, Length: 105, dtype: int64\n",
      "saopaulo\n",
      "today_y\n",
      "2020-06-11    2\n",
      "2020-06-12    8\n",
      "2020-06-13    8\n",
      "2020-06-14    8\n",
      "2020-06-15    8\n",
      "             ..\n",
      "2021-09-09    8\n",
      "2021-09-10    8\n",
      "2021-09-11    8\n",
      "2021-09-12    8\n",
      "2021-09-13    8\n",
      "Name: _merge, Length: 92, dtype: int64\n",
      "sydney\n",
      "today_y\n",
      "2020-06-11    2\n",
      "2020-06-12    8\n",
      "2020-06-13    8\n",
      "2020-06-14    8\n",
      "2020-06-15    8\n",
      "             ..\n",
      "2021-09-09    8\n",
      "2021-09-10    8\n",
      "2021-09-11    8\n",
      "2021-09-12    8\n",
      "2021-09-13    8\n",
      "Name: _merge, Length: 95, dtype: int64\n",
      "newyork\n",
      "today_y\n",
      "2020-06-11    2\n",
      "2020-06-12    8\n",
      "2020-06-13    8\n",
      "2020-06-14    8\n",
      "2020-06-15    8\n",
      "             ..\n",
      "2021-09-09    8\n",
      "2021-09-10    8\n",
      "2021-09-11    8\n",
      "2021-09-12    8\n",
      "2021-09-13    8\n",
      "Name: _merge, Length: 98, dtype: int64\n",
      "moscow\n",
      "today_y\n",
      "2021-01-27    7\n",
      "2021-01-28    8\n",
      "2021-01-29    8\n",
      "2021-01-30    8\n",
      "2021-01-31    8\n",
      "             ..\n",
      "2021-09-09    8\n",
      "2021-09-10    8\n",
      "2021-09-11    8\n",
      "2021-09-12    8\n",
      "2021-09-13    8\n",
      "Name: _merge, Length: 82, dtype: int64\n",
      "tokyo\n",
      "today_y\n",
      "2021-01-27    7\n",
      "2021-01-28    8\n",
      "2021-01-29    8\n",
      "2021-01-30    8\n",
      "2021-01-31    8\n",
      "             ..\n",
      "2021-09-09    8\n",
      "2021-09-10    8\n",
      "2021-09-11    8\n",
      "2021-09-12    8\n",
      "2021-09-13    8\n",
      "Name: _merge, Length: 83, dtype: int64\n",
      "nairobi\n",
      "today_y\n",
      "2021-01-27    7\n",
      "2021-01-28    8\n",
      "2021-01-29    8\n",
      "2021-01-30    8\n",
      "2021-01-31    8\n",
      "             ..\n",
      "2021-09-09    8\n",
      "2021-09-10    8\n",
      "2021-09-11    8\n",
      "2021-09-12    8\n",
      "2021-09-13    8\n",
      "Name: _merge, Length: 88, dtype: int64\n",
      "asuncion\n",
      "today_y\n",
      "2021-01-27    7\n",
      "2021-01-28    8\n",
      "2021-01-29    8\n",
      "2021-01-30    8\n",
      "2021-01-31    8\n",
      "             ..\n",
      "2021-09-09    8\n",
      "2021-09-10    8\n",
      "2021-09-11    8\n",
      "2021-09-12    8\n",
      "2021-09-13    8\n",
      "Name: _merge, Length: 91, dtype: int64\n",
      "lagos\n",
      "today_y\n",
      "2021-01-27    7\n",
      "2021-01-28    8\n",
      "2021-01-29    8\n",
      "2021-01-30    8\n",
      "2021-01-31    8\n",
      "             ..\n",
      "2021-09-09    8\n",
      "2021-09-10    8\n",
      "2021-09-11    8\n",
      "2021-09-12    8\n",
      "2021-09-13    8\n",
      "Name: _merge, Length: 87, dtype: int64\n"
     ]
    }
   ],
   "source": [
    "for city in rconf.cities.values():\n",
    "    print(city.name)\n",
    "    print(rdq.temps_without_five_forecasts(city, 'temp', end_dt=dt.datetime.combine(dt.date.today(), dt.time.min, dt.timezone.utc)).groupby('today_y').count()['_merge'])"
   ]
  },
  {
   "cell_type": "markdown",
   "metadata": {},
   "source": [
    "### Missing forecasts\n",
    "And here we can see that, as predicted, Madrid and Sao Paulo did not record those forecasts."
   ]
  },
  {
   "cell_type": "code",
   "execution_count": 10,
   "metadata": {},
   "outputs": [
    {
     "name": "stdout",
     "output_type": "stream",
     "text": [
      "london\n",
      "['2021-06-12' '2021-06-28' '2021-06-29' '2021-06-30' '2021-07-01'\n",
      " '2021-07-02' '2021-07-03' '2021-07-04' '2021-07-05' '2021-07-06'\n",
      " '2021-07-07' '2021-07-08' '2021-07-09' '2021-07-10' '2021-07-11'\n",
      " '2021-07-12' '2021-07-13' '2021-07-14' '2021-07-15' '2021-07-16'\n",
      " '2021-07-17' '2021-07-18' '2021-07-19' '2021-07-20' '2021-07-21'\n",
      " '2021-07-22' '2021-07-23' '2021-07-24' '2021-07-25' '2021-07-26'\n",
      " '2021-07-27' '2021-07-28' '2021-07-29' '2021-07-30' '2021-07-31'\n",
      " '2021-08-01' '2021-08-02' '2021-08-03' '2021-08-04' '2021-08-05'\n",
      " '2021-08-06' '2021-08-07' '2021-08-08' '2021-08-09' '2021-08-10'\n",
      " '2021-08-11' '2021-08-12' '2021-08-13' '2021-08-14' '2021-08-15'\n",
      " '2021-08-16' '2021-08-17' '2021-08-18' '2021-08-19' '2021-08-20'\n",
      " '2021-08-21' '2021-08-22' '2021-08-23' '2021-08-24' '2021-08-25'\n",
      " '2021-08-26' '2021-08-27' '2021-08-28' '2021-08-29' '2021-08-30'\n",
      " '2021-08-31' '2021-09-01' '2021-09-02' '2021-09-03' '2021-09-04'\n",
      " '2021-09-05' '2021-09-06' '2021-09-07' '2021-09-08' '2021-09-09'\n",
      " '2021-09-10' '2021-09-11' '2021-09-12' '2021-09-13']\n",
      "madrid\n",
      "['2020-10-05' '2021-03-29' '2021-04-11' '2021-04-17' '2021-06-25'\n",
      " '2021-06-28' '2021-06-29' '2021-06-30' '2021-07-01' '2021-07-02'\n",
      " '2021-07-03' '2021-07-04' '2021-07-05' '2021-07-06' '2021-07-07'\n",
      " '2021-07-08' '2021-07-09' '2021-07-10' '2021-07-11' '2021-07-12'\n",
      " '2021-07-13' '2021-07-14' '2021-07-15' '2021-07-16' '2021-07-17'\n",
      " '2021-07-18' '2021-07-19' '2021-07-20' '2021-07-21' '2021-07-22'\n",
      " '2021-07-23' '2021-07-24' '2021-07-25' '2021-07-26' '2021-07-27'\n",
      " '2021-07-28' '2021-07-29' '2021-07-30' '2021-07-31' '2021-08-01'\n",
      " '2021-08-02' '2021-08-03' '2021-08-04' '2021-08-05' '2021-08-06'\n",
      " '2021-08-07' '2021-08-08' '2021-08-09' '2021-08-10' '2021-08-11'\n",
      " '2021-08-12' '2021-08-13' '2021-08-14' '2021-08-15' '2021-08-16'\n",
      " '2021-08-17' '2021-08-18' '2021-08-19' '2021-08-20' '2021-08-21'\n",
      " '2021-08-22' '2021-08-23' '2021-08-24' '2021-08-25' '2021-08-26'\n",
      " '2021-08-27' '2021-08-28' '2021-08-29' '2021-08-30' '2021-08-31'\n",
      " '2021-09-01' '2021-09-02' '2021-09-03' '2021-09-04' '2021-09-05'\n",
      " '2021-09-06' '2021-09-07' '2021-09-08' '2021-09-09' '2021-09-10'\n",
      " '2021-09-11' '2021-09-12' '2021-09-13']\n",
      "saopaulo\n",
      "['2020-10-25' '2021-06-17' '2021-06-28' '2021-06-29' '2021-06-30'\n",
      " '2021-07-01' '2021-07-02' '2021-07-03' '2021-07-04' '2021-07-05'\n",
      " '2021-07-06' '2021-07-07' '2021-07-08' '2021-07-09' '2021-07-10'\n",
      " '2021-07-11' '2021-07-12' '2021-07-13' '2021-07-14' '2021-07-15'\n",
      " '2021-07-16' '2021-07-17' '2021-07-18' '2021-07-19' '2021-07-20'\n",
      " '2021-07-21' '2021-07-22' '2021-07-23' '2021-07-24' '2021-07-25'\n",
      " '2021-07-26' '2021-07-27' '2021-07-28' '2021-07-29' '2021-07-30'\n",
      " '2021-07-31' '2021-08-01' '2021-08-02' '2021-08-03' '2021-08-04'\n",
      " '2021-08-05' '2021-08-06' '2021-08-07' '2021-08-08' '2021-08-09'\n",
      " '2021-08-10' '2021-08-11' '2021-08-12' '2021-08-13' '2021-08-14'\n",
      " '2021-08-15' '2021-08-16' '2021-08-17' '2021-08-18' '2021-08-19'\n",
      " '2021-08-20' '2021-08-21' '2021-08-22' '2021-08-23' '2021-08-24'\n",
      " '2021-08-25' '2021-08-26' '2021-08-27' '2021-08-28' '2021-08-29'\n",
      " '2021-08-30' '2021-08-31' '2021-09-01' '2021-09-02' '2021-09-03'\n",
      " '2021-09-04' '2021-09-05' '2021-09-06' '2021-09-07' '2021-09-08'\n",
      " '2021-09-09' '2021-09-10' '2021-09-11' '2021-09-12' '2021-09-13']\n",
      "sydney\n",
      "['2021-01-24' '2021-06-13' '2021-06-28' '2021-06-29' '2021-06-30'\n",
      " '2021-07-01' '2021-07-02' '2021-07-03' '2021-07-04' '2021-07-05'\n",
      " '2021-07-06' '2021-07-07' '2021-07-08' '2021-07-09' '2021-07-10'\n",
      " '2021-07-11' '2021-07-12' '2021-07-13' '2021-07-14' '2021-07-15'\n",
      " '2021-07-16' '2021-07-17' '2021-07-18' '2021-07-19' '2021-07-20'\n",
      " '2021-07-21' '2021-07-22' '2021-07-23' '2021-07-24' '2021-07-25'\n",
      " '2021-07-26' '2021-07-27' '2021-07-28' '2021-07-29' '2021-07-30'\n",
      " '2021-07-31' '2021-08-01' '2021-08-02' '2021-08-03' '2021-08-04'\n",
      " '2021-08-05' '2021-08-06' '2021-08-07' '2021-08-08' '2021-08-09'\n",
      " '2021-08-10' '2021-08-11' '2021-08-12' '2021-08-13' '2021-08-14'\n",
      " '2021-08-15' '2021-08-16' '2021-08-17' '2021-08-18' '2021-08-19'\n",
      " '2021-08-20' '2021-08-21' '2021-08-22' '2021-08-23' '2021-08-24'\n",
      " '2021-08-25' '2021-08-26' '2021-08-27' '2021-08-28' '2021-08-29'\n",
      " '2021-08-30' '2021-08-31' '2021-09-01' '2021-09-02' '2021-09-03'\n",
      " '2021-09-04' '2021-09-05' '2021-09-06' '2021-09-07' '2021-09-08'\n",
      " '2021-09-09' '2021-09-10' '2021-09-11' '2021-09-12' '2021-09-13']\n",
      "newyork\n",
      "['2021-01-21' '2021-04-20' '2021-06-23' '2021-06-28' '2021-06-29'\n",
      " '2021-06-30' '2021-07-01' '2021-07-02' '2021-07-03' '2021-07-04'\n",
      " '2021-07-05' '2021-07-06' '2021-07-07' '2021-07-08' '2021-07-09'\n",
      " '2021-07-10' '2021-07-11' '2021-07-12' '2021-07-13' '2021-07-14'\n",
      " '2021-07-15' '2021-07-16' '2021-07-17' '2021-07-18' '2021-07-19'\n",
      " '2021-07-20' '2021-07-21' '2021-07-22' '2021-07-23' '2021-07-24'\n",
      " '2021-07-25' '2021-07-26' '2021-07-27' '2021-07-28' '2021-07-29'\n",
      " '2021-07-30' '2021-07-31' '2021-08-01' '2021-08-02' '2021-08-03'\n",
      " '2021-08-04' '2021-08-05' '2021-08-06' '2021-08-07' '2021-08-08'\n",
      " '2021-08-09' '2021-08-10' '2021-08-11' '2021-08-12' '2021-08-13'\n",
      " '2021-08-14' '2021-08-15' '2021-08-16' '2021-08-17' '2021-08-18'\n",
      " '2021-08-19' '2021-08-20' '2021-08-21' '2021-08-22' '2021-08-23'\n",
      " '2021-08-24' '2021-08-25' '2021-08-26' '2021-08-27' '2021-08-28'\n",
      " '2021-08-29' '2021-08-30' '2021-08-31' '2021-09-01' '2021-09-02'\n",
      " '2021-09-03' '2021-09-04' '2021-09-05' '2021-09-06' '2021-09-07'\n",
      " '2021-09-08' '2021-09-09' '2021-09-10' '2021-09-11' '2021-09-12'\n",
      " '2021-09-13']\n",
      "moscow\n",
      "['2021-06-28' '2021-06-29' '2021-06-30' '2021-07-01' '2021-07-02'\n",
      " '2021-07-03' '2021-07-04' '2021-07-05' '2021-07-06' '2021-07-07'\n",
      " '2021-07-08' '2021-07-09' '2021-07-10' '2021-07-11' '2021-07-12'\n",
      " '2021-07-13' '2021-07-14' '2021-07-15' '2021-07-16' '2021-07-17'\n",
      " '2021-07-18' '2021-07-19' '2021-07-20' '2021-07-21' '2021-07-22'\n",
      " '2021-07-23' '2021-07-24' '2021-07-25' '2021-07-26' '2021-07-27'\n",
      " '2021-07-28' '2021-07-29' '2021-07-30' '2021-07-31' '2021-08-01'\n",
      " '2021-08-02' '2021-08-03' '2021-08-04' '2021-08-05' '2021-08-06'\n",
      " '2021-08-07' '2021-08-08' '2021-08-09' '2021-08-10' '2021-08-11'\n",
      " '2021-08-12' '2021-08-13' '2021-08-14' '2021-08-15' '2021-08-16'\n",
      " '2021-08-17' '2021-08-18' '2021-08-19' '2021-08-20' '2021-08-21'\n",
      " '2021-08-22' '2021-08-23' '2021-08-24' '2021-08-25' '2021-08-26'\n",
      " '2021-08-27' '2021-08-28' '2021-08-29' '2021-08-30' '2021-08-31'\n",
      " '2021-09-01' '2021-09-02' '2021-09-03' '2021-09-04' '2021-09-05'\n",
      " '2021-09-06' '2021-09-07' '2021-09-08' '2021-09-09' '2021-09-10'\n",
      " '2021-09-11' '2021-09-12' '2021-09-13']\n",
      "tokyo\n",
      "['2021-06-28' '2021-06-29' '2021-06-30' '2021-07-01' '2021-07-02'\n",
      " '2021-07-03' '2021-07-04' '2021-07-05' '2021-07-06' '2021-07-07'\n",
      " '2021-07-08' '2021-07-09' '2021-07-10' '2021-07-11' '2021-07-12'\n",
      " '2021-07-13' '2021-07-14' '2021-07-15' '2021-07-16' '2021-07-17'\n",
      " '2021-07-18' '2021-07-19' '2021-07-20' '2021-07-21' '2021-07-22'\n",
      " '2021-07-23' '2021-07-24' '2021-07-25' '2021-07-26' '2021-07-27'\n",
      " '2021-07-28' '2021-07-29' '2021-07-30' '2021-07-31' '2021-08-01'\n",
      " '2021-08-02' '2021-08-03' '2021-08-04' '2021-08-05' '2021-08-06'\n",
      " '2021-08-07' '2021-08-08' '2021-08-09' '2021-08-10' '2021-08-11'\n",
      " '2021-08-12' '2021-08-13' '2021-08-14' '2021-08-15' '2021-08-16'\n",
      " '2021-08-17' '2021-08-18' '2021-08-19' '2021-08-20' '2021-08-21'\n",
      " '2021-08-22' '2021-08-23' '2021-08-24' '2021-08-25' '2021-08-26'\n",
      " '2021-08-27' '2021-08-28' '2021-08-29' '2021-08-30' '2021-08-31'\n",
      " '2021-09-01' '2021-09-02' '2021-09-03' '2021-09-04' '2021-09-05'\n",
      " '2021-09-06' '2021-09-07' '2021-09-08' '2021-09-09' '2021-09-10'\n",
      " '2021-09-11' '2021-09-12' '2021-09-13']\n",
      "nairobi\n",
      "['2021-05-02' '2021-06-28' '2021-06-29' '2021-06-30' '2021-07-01'\n",
      " '2021-07-02' '2021-07-03' '2021-07-04' '2021-07-05' '2021-07-06'\n",
      " '2021-07-07' '2021-07-08' '2021-07-09' '2021-07-10' '2021-07-11'\n",
      " '2021-07-12' '2021-07-13' '2021-07-14' '2021-07-15' '2021-07-16'\n",
      " '2021-07-17' '2021-07-18' '2021-07-19' '2021-07-20' '2021-07-21'\n",
      " '2021-07-22' '2021-07-23' '2021-07-24' '2021-07-25' '2021-07-26'\n",
      " '2021-07-27' '2021-07-28' '2021-07-29' '2021-07-30' '2021-07-31'\n",
      " '2021-08-01' '2021-08-02' '2021-08-03' '2021-08-04' '2021-08-05'\n",
      " '2021-08-06' '2021-08-07' '2021-08-08' '2021-08-09' '2021-08-10'\n",
      " '2021-08-11' '2021-08-12' '2021-08-13' '2021-08-14' '2021-08-15'\n",
      " '2021-08-16' '2021-08-17' '2021-08-18' '2021-08-19' '2021-08-20'\n",
      " '2021-08-21' '2021-08-22' '2021-08-23' '2021-08-24' '2021-08-25'\n",
      " '2021-08-26' '2021-08-27' '2021-08-28' '2021-08-29' '2021-08-30'\n",
      " '2021-08-31' '2021-09-01' '2021-09-02' '2021-09-03' '2021-09-04'\n",
      " '2021-09-05' '2021-09-06' '2021-09-07' '2021-09-08' '2021-09-09'\n",
      " '2021-09-10' '2021-09-11' '2021-09-12' '2021-09-13']\n",
      "asuncion\n",
      "['2021-06-28' '2021-06-29' '2021-06-30' '2021-07-01' '2021-07-02'\n",
      " '2021-07-03' '2021-07-04' '2021-07-05' '2021-07-06' '2021-07-07'\n",
      " '2021-07-08' '2021-07-09' '2021-07-10' '2021-07-11' '2021-07-12'\n",
      " '2021-07-13' '2021-07-14' '2021-07-15' '2021-07-16' '2021-07-17'\n",
      " '2021-07-18' '2021-07-19' '2021-07-20' '2021-07-21' '2021-07-22'\n",
      " '2021-07-23' '2021-07-24' '2021-07-25' '2021-07-26' '2021-07-27'\n",
      " '2021-07-28' '2021-07-29' '2021-07-30' '2021-07-31' '2021-08-01'\n",
      " '2021-08-02' '2021-08-03' '2021-08-04' '2021-08-05' '2021-08-06'\n",
      " '2021-08-07' '2021-08-08' '2021-08-09' '2021-08-10' '2021-08-11'\n",
      " '2021-08-12' '2021-08-13' '2021-08-14' '2021-08-15' '2021-08-16'\n",
      " '2021-08-17' '2021-08-18' '2021-08-19' '2021-08-20' '2021-08-21'\n",
      " '2021-08-22' '2021-08-23' '2021-08-24' '2021-08-25' '2021-08-26'\n",
      " '2021-08-27' '2021-08-28' '2021-08-29' '2021-08-30' '2021-08-31'\n",
      " '2021-09-01' '2021-09-02' '2021-09-03' '2021-09-04' '2021-09-05'\n",
      " '2021-09-06' '2021-09-07' '2021-09-08' '2021-09-09' '2021-09-10'\n",
      " '2021-09-11' '2021-09-12' '2021-09-13']\n",
      "lagos\n"
     ]
    },
    {
     "name": "stdout",
     "output_type": "stream",
     "text": [
      "['2021-06-28' '2021-06-29' '2021-06-30' '2021-07-01' '2021-07-02'\n",
      " '2021-07-03' '2021-07-04' '2021-07-05' '2021-07-06' '2021-07-07'\n",
      " '2021-07-08' '2021-07-09' '2021-07-10' '2021-07-11' '2021-07-12'\n",
      " '2021-07-13' '2021-07-14' '2021-07-15' '2021-07-16' '2021-07-17'\n",
      " '2021-07-18' '2021-07-19' '2021-07-20' '2021-07-21' '2021-07-22'\n",
      " '2021-07-23' '2021-07-24' '2021-07-25' '2021-07-26' '2021-07-27'\n",
      " '2021-07-28' '2021-07-29' '2021-07-30' '2021-07-31' '2021-08-01'\n",
      " '2021-08-02' '2021-08-03' '2021-08-04' '2021-08-05' '2021-08-06'\n",
      " '2021-08-07' '2021-08-08' '2021-08-09' '2021-08-10' '2021-08-11'\n",
      " '2021-08-12' '2021-08-13' '2021-08-14' '2021-08-15' '2021-08-16'\n",
      " '2021-08-17' '2021-08-18' '2021-08-19' '2021-08-20' '2021-08-21'\n",
      " '2021-08-22' '2021-08-23' '2021-08-24' '2021-08-25' '2021-08-26'\n",
      " '2021-08-27' '2021-08-28' '2021-08-29' '2021-08-30' '2021-08-31'\n",
      " '2021-09-01' '2021-09-02' '2021-09-03' '2021-09-04' '2021-09-05'\n",
      " '2021-09-06' '2021-09-07' '2021-09-08' '2021-09-09' '2021-09-10'\n",
      " '2021-09-11' '2021-09-12' '2021-09-13']\n"
     ]
    }
   ],
   "source": [
    "for city in rconf.cities.values():\n",
    "    print(city.name)\n",
    "    print(rdq.missing_forecasts(city, 'temp', end_dt=dt.datetime.combine(dt.date.today(), dt.time.min, dt.timezone.utc)))"
   ]
  },
  {
   "cell_type": "markdown",
   "metadata": {},
   "source": [
    "<a id=\"actual_vs_forecast\"></a>\n",
    "## Actual vs Forecast temperature"
   ]
  },
  {
   "cell_type": "code",
   "execution_count": 48,
   "metadata": {},
   "outputs": [
    {
     "data": {
      "application/vnd.jupyter.widget-view+json": {
       "model_id": "2e00c2c86dec4d1a9318922848a03040",
       "version_major": 2,
       "version_minor": 0
      },
      "text/plain": [
       "Canvas(toolbar=Toolbar(toolitems=[('Home', 'Reset original view', 'home', 'home'), ('Back', 'Back to previous …"
      ]
     },
     "metadata": {},
     "output_type": "display_data"
    },
    {
     "data": {
      "application/vnd.jupyter.widget-view+json": {
       "model_id": "52a42255cae94b27bf1a689440dfe3b8",
       "version_major": 2,
       "version_minor": 0
      },
      "text/plain": [
       "interactive(children=(IntSlider(value=30, description='days', max=60, min=1), Dropdown(description='city_name'…"
      ]
     },
     "metadata": {},
     "output_type": "display_data"
    }
   ],
   "source": [
    "fig, ax = plt.subplots()\n",
    "@widgets.interact(days=(1, 60, 1), city_name=[city.name for city in rconf.cities.values()], tn=['t1','t2','t3','t4','t5'], weather_var=[wvar for wvar in rconf.weather_variables.values()])\n",
    "def plot_true_vs_forecast(days: int, city_name: str, tn: str, weather_var: str): \n",
    "    plt.grid(True)\n",
    "    city = rconf.cities[city_name]\n",
    "    files = rdq.load_csv_files(city, weather_var)\n",
    "    N = files[\"join_data_df\"].shape[0]\n",
    "    max_x = N\n",
    "    min_x = max_x-(rconf.day_factor*days)\n",
    "    print(f\"min_x={min_x}\")\n",
    "    print(f\"max_x={max_x}\")\n",
    "    max_y = max(max(files[\"join_data_df\"][weather_var][min_x:max_x]), max(files[\"join_data_df\"][tn][min_x:max_x]))\n",
    "    min_y = min(min(files[\"join_data_df\"][weather_var][min_x:max_x]), min(files[\"join_data_df\"][tn][min_x:max_x]))\n",
    "    print(f\"min_y={min_y}\")\n",
    "    print(f\"max_y={max_y}\")\n",
    "    x = np.linspace(0,max_x-min_x,max_x-min_x)\n",
    "    plt.xlim(0, max_x-min_x)\n",
    "    plt.ylim(min_y, max_y)\n",
    "    [l.remove() for l in ax.lines]\n",
    "    [l.remove() for l in ax.lines]\n",
    "    plt.plot(x, files[\"join_data_df\"][weather_var][min_x:max_x], label=f'true {weather_var}', color='green', marker=\"o\")\n",
    "    plt.plot(x, files[\"join_data_df\"][tn][min_x:max_x], label=tn, color='red', marker='*')\n",
    "    plt.title(f\"{city_name}: t vs {tn} (last {days} days)\")\n",
    "    plt.legend()\n",
    "#     ax.show()\n",
    "#     print([l for l in ax.lines])"
   ]
  },
  {
   "cell_type": "markdown",
   "metadata": {},
   "source": [
    "<a id=\"metrics_comparison\"></a>\n",
    "## Metrics comparison\n",
    "\n",
    "In all cases, `medae < mae < rmse`"
   ]
  },
  {
   "cell_type": "code",
   "execution_count": 50,
   "metadata": {},
   "outputs": [
    {
     "data": {
      "application/vnd.jupyter.widget-view+json": {
       "model_id": "58d1c6b41ad14c70af08bdf357f87e19",
       "version_major": 2,
       "version_minor": 0
      },
      "text/plain": [
       "Canvas(toolbar=Toolbar(toolitems=[('Home', 'Reset original view', 'home', 'home'), ('Back', 'Back to previous …"
      ]
     },
     "metadata": {},
     "output_type": "display_data"
    },
    {
     "data": {
      "application/vnd.jupyter.widget-view+json": {
       "model_id": "ea145b6adf23417494d3260f3ce49676",
       "version_major": 2,
       "version_minor": 0
      },
      "text/plain": [
       "interactive(children=(Dropdown(description='city_name', options=('london', 'madrid', 'saopaulo', 'sydney', 'ne…"
      ]
     },
     "metadata": {},
     "output_type": "display_data"
    }
   ],
   "source": [
    "fig, ax = plt.subplots()\n",
    "\n",
    "@widgets.interact(city_name=[city.name for city in rconf.cities.values()], weather_var=[wvar for wvar in rconf.weather_variables.values()])\n",
    "def plot_metrics(city_name: str, weather_var: str):\n",
    "    plt.grid(True)\n",
    "    city = rconf.cities[city_name]\n",
    "    files = rdq.load_csv_files(city, weather_var)\n",
    "    # plt.rcParams['figure.figsize'] = (7,3)\n",
    "    x = np.linspace(0,1,5)\n",
    "    ax.set_xticks(x)\n",
    "    ax.set_xticklabels(['t5', 't4', 't3', 't2', 't1'])\n",
    "    max_y = max(max(files[\"metrics_df\"]['mae']), max(files[\"metrics_df\"]['rmse']), max(files[\"metrics_df\"]['medae']))\n",
    "    min_y = min(min(files[\"metrics_df\"]['mae']), min(files[\"metrics_df\"]['rmse']), min(files[\"metrics_df\"]['medae']))\n",
    "    print(f\"min_y={min_y}\")\n",
    "    print(f\"max_y={max_y}\")\n",
    "    plt.ylim(min_y, max_y)\n",
    "    [l.remove() for l in ax.lines]\n",
    "    [l.remove() for l in ax.lines]\n",
    "    [l.remove() for l in ax.lines]\n",
    "    plt.plot(x, files[\"metrics_df\"]['mae'], label='mae', color='blue', marker='o')\n",
    "    plt.plot(x, files[\"metrics_df\"]['rmse'], label='rmse', color='grey', marker='^')\n",
    "    plt.plot(x, files[\"metrics_df\"]['medae'], label='medae', color='red', marker='*')\n",
    "    plt.title(f\"metrics - {city_name}\")\n",
    "    plt.legend()\n",
    "#     plt.show()"
   ]
  },
  {
   "cell_type": "code",
   "execution_count": 53,
   "metadata": {
    "scrolled": true
   },
   "outputs": [
    {
     "data": {
      "application/vnd.jupyter.widget-view+json": {
       "model_id": "df7f4d2a011b451e97d0cfd23e9ce72a",
       "version_major": 2,
       "version_minor": 0
      },
      "text/plain": [
       "Canvas(toolbar=Toolbar(toolitems=[('Home', 'Reset original view', 'home', 'home'), ('Back', 'Back to previous …"
      ]
     },
     "metadata": {},
     "output_type": "display_data"
    },
    {
     "data": {
      "application/vnd.jupyter.widget-view+json": {
       "model_id": "42995509fc004644b71787d532fcec7b",
       "version_major": 2,
       "version_minor": 0
      },
      "text/plain": [
       "interactive(children=(Dropdown(description='city_name', options=('london', 'madrid', 'saopaulo', 'sydney', 'ne…"
      ]
     },
     "metadata": {},
     "output_type": "display_data"
    }
   ],
   "source": [
    "fig, ax = plt.subplots()\n",
    "\n",
    "@widgets.interact(city_name=[city.name for city in rconf.cities.values()], weather_var=[wvar for wvar in rconf.weather_variables.values()])\n",
    "def plot_scaled_error(city_name: str, weather_var: str):\n",
    "    plt.grid(True)\n",
    "    city = rconf.cities[city_name]\n",
    "    files = rdq.load_csv_files(city, weather_var)\n",
    "    x = np.linspace(0,1,5)\n",
    "    ax.set_xticks(x)\n",
    "    ax.set_xticklabels(['t5', 't4', 't3', 't2', 't1'])\n",
    "    [l.remove() for l in ax.lines]\n",
    "    [l.remove() for l in ax.lines]\n",
    "    plt.plot(x, files[\"metrics_df\"]['mase'], label='mase', color='blue', marker='o')\n",
    "    plt.plot(x, files[\"metrics_df\"]['mase1y'], label='mase1y', color='black', marker='*')\n",
    "#     plt.plot(x, df[\"metrics_df\"]['mase1y_avg'], label='mase1y_avg', color='black', marker='o')\n",
    "    plt.plot(x, np.ones(5), label='1', color='red')\n",
    "    plt.title(f\"Mean Absolute Scaled Error - {city_name}\")\n",
    "    plt.legend()\n",
    "#     plt.show()\n",
    "    "
   ]
  },
  {
   "cell_type": "markdown",
   "metadata": {},
   "source": [
    "<a id=\"cities_comparison\"></a>\n",
    "## Cities comparison"
   ]
  },
  {
   "cell_type": "code",
   "execution_count": 52,
   "metadata": {
    "scrolled": true
   },
   "outputs": [
    {
     "data": {
      "application/vnd.jupyter.widget-view+json": {
       "model_id": "5f960cc21cc64ea68f76c7ece981fff8",
       "version_major": 2,
       "version_minor": 0
      },
      "text/plain": [
       "Canvas(toolbar=Toolbar(toolitems=[('Home', 'Reset original view', 'home', 'home'), ('Back', 'Back to previous …"
      ]
     },
     "metadata": {},
     "output_type": "display_data"
    },
    {
     "data": {
      "application/vnd.jupyter.widget-view+json": {
       "model_id": "a278adfe051a42bc87c79f6725f0d862",
       "version_major": 2,
       "version_minor": 0
      },
      "text/plain": [
       "interactive(children=(Dropdown(description='metric', options=('mase', 'mae', 'rmse', 'medae'), value='mase'), …"
      ]
     },
     "metadata": {},
     "output_type": "display_data"
    }
   ],
   "source": [
    "fig, ax = plt.subplots()\n",
    "\n",
    "@widgets.interact(metric=['mase', 'mae', 'rmse', 'medae'], weather_var=[wvar for wvar in rconf.weather_variables.values()])\n",
    "def plot_cities(metric, weather_var):\n",
    "    plt.grid(True)\n",
    "    # plt.rcParams['figure.figsize'] = (7,3)\n",
    "    colors = ['blue', 'red', 'green', 'black', 'purple']\n",
    "    x = np.linspace(0,1,5)\n",
    "    ax.set_xticks(x)\n",
    "    ax.set_xticklabels(['t5', 't4', 't3', 't2', 't1'])\n",
    "    idx = 0\n",
    "#     plt.plot(x, np.ones(5), label='1', color='red')\n",
    "    for city in rconf.cities.values():\n",
    "        [l.remove() for l in ax.lines]\n",
    "    for city in rconf.cities.values():\n",
    "        files = rdq.load_csv_files(city, weather_var)    \n",
    "        plt.plot(x, files[\"metrics_df\"][metric], label=city.name, marker='o')\n",
    "        idx += 1\n",
    "    plt.title(metric)\n",
    "    plt.legend()\n",
    "#     plt.show()"
   ]
  },
  {
   "cell_type": "code",
   "execution_count": null,
   "metadata": {},
   "outputs": [],
   "source": []
  }
 ],
 "metadata": {
  "file_extension": ".py",
  "kernelspec": {
   "display_name": "Python 3 (ipykernel)",
   "language": "python",
   "name": "python3"
  },
  "language_info": {
   "codemirror_mode": {
    "name": "ipython",
    "version": 3
   },
   "file_extension": ".py",
   "mimetype": "text/x-python",
   "name": "python",
   "nbconvert_exporter": "python",
   "pygments_lexer": "ipython3",
   "version": "3.8.0"
  },
  "mimetype": "text/x-python",
  "name": "python",
  "npconvert_exporter": "python",
  "pygments_lexer": "ipython3",
  "version": 3
 },
 "nbformat": 4,
 "nbformat_minor": 2
}
