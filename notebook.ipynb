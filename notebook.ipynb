{
 "cells": [
  {
   "cell_type": "code",
   "execution_count": 1,
   "metadata": {},
   "outputs": [],
   "source": [
    "import warnings\n",
    "warnings.simplefilter('ignore')"
   ]
  },
  {
   "cell_type": "code",
   "execution_count": 2,
   "metadata": {},
   "outputs": [
    {
     "data": {
      "application/javascript": [
       "IPython.OutputArea.prototype._should_scroll = function(lines) {\n",
       "    return false;\n",
       "}\n"
      ],
      "text/plain": [
       "<IPython.core.display.Javascript object>"
      ]
     },
     "metadata": {},
     "output_type": "display_data"
    }
   ],
   "source": [
    "%%javascript\n",
    "IPython.OutputArea.prototype._should_scroll = function(lines) {\n",
    "    return false;\n",
    "}"
   ]
  },
  {
   "cell_type": "code",
   "execution_count": 3,
   "metadata": {
    "scrolled": false
   },
   "outputs": [],
   "source": [
    "import pandas as pd\n",
    "import numpy as np\n",
    "# %matplotlib inline\n",
    "%matplotlib widget\n",
    "import ipywidgets as widgets\n",
    "import matplotlib.pyplot as plt\n",
    "from sklearn.metrics import mean_absolute_error as mae"
   ]
  },
  {
   "cell_type": "code",
   "execution_count": 4,
   "metadata": {},
   "outputs": [],
   "source": [
    "# load libraries and set plot parameters\n",
    "\n",
    "# from IPython.display import set_matplotlib_formats\n",
    "# set_matplotlib_formats('pdf', 'png')\n",
    "# plt.rcParams['savefig.dpi'] = 75\n",
    "\n",
    "# plt.rcParams['figure.autolayout'] = False\n",
    "# plt.rcParams['figure.figsize'] = 10, 6\n",
    "# plt.rcParams['axes.labelsize'] = 18\n",
    "# plt.rcParams['axes.titlesize'] = 20\n",
    "# plt.rcParams['font.size'] = 16\n",
    "# plt.rcParams['lines.linewidth'] = 2.0\n",
    "# plt.rcParams['lines.markersize'] = 8\n",
    "# plt.rcParams['legend.fontsize'] = 14\n",
    "\n",
    "# plt.rcParams['text.usetex'] = True\n",
    "# plt.rcParams['font.family'] = \"serif\"\n",
    "# plt.rcParams['font.serif'] = \"cm\"\n",
    "# plt.rcParams['text.latex.preamble'] = \"\\usepackage{subdepth}, \\usepackage{type1cm}\""
   ]
  },
  {
   "cell_type": "code",
   "execution_count": 5,
   "metadata": {},
   "outputs": [],
   "source": [
    "import roboclimate.util as rutil\n",
    "import datetime as dt\n",
    "import roboclimate.data_quality as rdq\n",
    "import roboclimate.config as rconf"
   ]
  },
  {
   "cell_type": "markdown",
   "metadata": {},
   "source": [
    "# Table of Contents\n",
    "\n",
    "* [Introduction](#intro)\n",
    "* [Models](#models)\n",
    "* [Metrics](#metrics)\n",
    "* [Data collection](#data_collection)\n",
    "* [Data analysis](#data_analysis)\n",
    "    * [Data quality](#data_quality)\n",
    "    * [Actual vs Forecast](#actual_vs_forecast)\n",
    "    * [Metrics comparison](#metrics_comparison)\n",
    "    * [Cities comparison](#cities_comparison)"
   ]
  },
  {
   "cell_type": "markdown",
   "metadata": {},
   "source": [
    "<a id=\"intro\"></a>\n",
    "# Introduction\n",
    "\n",
    "Have you ever complained about the weatherman failing to predict the weather correctly?\n",
    "\n",
    "That's the question we aim to answer here: how reliable are the weather forecasts?\n",
    "\n",
    "To do so we compare the accuracy of different weather models ranging from a naive approach to sophisticated meteorological models.\n",
    "\n",
    "The scope of this analysis is restricted to the **temperature** in five locations around the world, namely:\n",
    "\n",
    "- London\n",
    "- Madrid\n",
    "- Sydney\n",
    "- New York\n",
    "- Sao Paulo"
   ]
  },
  {
   "cell_type": "markdown",
   "metadata": {},
   "source": [
    "<a id=\"models\"></a>\n",
    "# Models\n",
    "\n",
    "\n",
    "### Naive forecast\n",
    "\n",
    "Consists in assuming that the next value is the same as the one of the last period.\n",
    "\n",
    "The tricky part is to identify what the last value is. For instance, if we measure the temperature\n",
    "every 3 hours and we want to predict the temperature today at 3pm, what is the last value: today's temperature at 12pm, yesterday's temperature at 3pm or maybe last year's temperature on the same day at 3pm?\n",
    "\n",
    "\n",
    "### Average values\n",
    "\n",
    "Following with the previous example, we could use the average of the temperature over the last 20\n",
    "years on the same day at 3pm\n",
    "\n",
    "\n",
    "### Meteorological models\n",
    "\n",
    "Provided by [OpenWeather](https://openweathermap.org/technology)"
   ]
  },
  {
   "cell_type": "markdown",
   "metadata": {},
   "source": [
    "<a id=\"metrics\"></a>\n",
    "# Metrics\n",
    "\n",
    "Metrics are used to evaluate the accuracy of the models' predictions when compared to the actual values.\n",
    "\n",
    "\n",
    "## Mean absolute scaled error (MASE)\n",
    "\n",
    "Mean absolute scaled error is a measure of the precision of a model compared to the naive forecast.\n",
    "\n",
    "It is calculated as the mean absolute error of the forecast values predicted by the model divided by the mean absolute error of the naive forecast.\n",
    "\n",
    "Values greater than one indicate that the naive method performs better than the more sophisticated forecast methods.\n",
    "\n",
    "### Example\n",
    "\n",
    "If $t^1$ is the 1-day forecast made on _2020-11-22 18:00_ for _2020-11-23 18:00_, the naive forecast is the actual temperature on _2020-11-22 18:00_.\n",
    "\n",
    "Equally, if $t^2$ is the 2-day forecast made on _2020-11-21 18:00_ for _2020-11-23 18:00_, the naive forecast is the actual temperature on _2020-11-21 18:00_.\n",
    "\n",
    "And so on for $t^3, t^4$ and $t^5$.\n",
    "\n",
    "Considering that everyday contains 8 forecasts (one every 3 hours), the mean absolute scaled error $mase^j$ corresponding to the _j-day_ forecast can be expressed as (where $t$ is the actual temperature):\n",
    "\n",
    "$$\n",
    "mase^j=\\frac{\\displaystyle\\sum_{i} \\lvert {t_i - t_i^j} \\rvert}{\\displaystyle\\sum_{i} \\lvert {t_i - t_{i-8j}} \\rvert} \n",
    "$$\n",
    "\n",
    "In other words, the _mase_ estimates how good the forecast $t^j$ is compared to just assuming that the temperature in $j$ days time will be the same as when the forecast $t^j$ is made.\n",
    "\n",
    "\n",
    "### 1-year mase\n",
    "\n",
    "For those locations with enough data, we also calculate the _mase_ based on the temperature 1 year ago.\n",
    "\n",
    "\n",
    "\n",
    "## Mean absolute error (MAE)\n",
    "\n",
    "Average of the absolute value of the errors (the errors being the differences between predicted and real values)\n",
    "\n",
    "## Root mean squared error (RMSE)\n",
    "\n",
    "Square root of the average of the square of the errors\n",
    "\n",
    "It weighs outliers more heavily than MAE as a result of the squaring of each term, which effectively weighs large errors more heavily than small ones\n",
    "\n",
    "## Median absolute error (MEDAE)\n",
    "\n",
    "Median of the absolute value of the errors.\n",
    "\n",
    "It is robust to outliers"
   ]
  },
  {
   "cell_type": "markdown",
   "metadata": {},
   "source": [
    "<a id=\"data_collection\"></a>\n",
    "# Data collection\n",
    "\n",
    "\n",
    "This page collects data about the actual weather and the meteorological forecast for the following 5 days.\n",
    "\n",
    "This data is obtained from [OpenWeather](https://openweathermap.org) through the endpoints:\n",
    "\n",
    "- current weather data\n",
    "- 5 day forecast\n",
    "\n",
    "Given that the 5 day forecast endpoint only provides data every 3 hours (00:00, 03:00, 06:00, 09:00, 12:00, 15:00, 18:00, 21:00), those are also the data points for which the current weather data is read.\n",
    "\n",
    "As a result, for every given temperature there are 5 forecasts: $t_5, t_4, t_3, t_2$ and $t_1$, where $t_n$ is the forecast made $n$ days before."
   ]
  },
  {
   "cell_type": "markdown",
   "metadata": {},
   "source": [
    "<a id=\"data_analysis\"></a>\n",
    "# Data analysis"
   ]
  },
  {
   "cell_type": "code",
   "execution_count": 6,
   "metadata": {
    "scrolled": false
   },
   "outputs": [],
   "source": [
    "city_name = {\"london\":\"London\", \"madrid\":\"Madrid\", \"saopaulo\":\"Sao Paulo\", \"sydney\":\"Sydney\", \"newyork\":\"New York\", \"asuncion\": \"Asuncion\", \"tokyo\": \"Tokyo\", \"moscow\": \"Moscow\", \"lagos\":\"Lagos\",\"nairobi\":\"Nairobi\"}"
   ]
  },
  {
   "cell_type": "markdown",
   "metadata": {},
   "source": [
    "<a id=\"data_quality\"></a>\n",
    "## Data quality\n",
    "\n",
    "First step of the data analysis is to check the data quality"
   ]
  },
  {
   "cell_type": "markdown",
   "metadata": {},
   "source": [
    "### Missing temperatures\n",
    "Finds dts for which the temperature was not recorded. As per today (2021-01-21), only New York failed to record a temperature, the one corresponding to `1593475200 = 2020-06-30T00:00:00`"
   ]
  },
  {
   "cell_type": "code",
   "execution_count": 7,
   "metadata": {
    "scrolled": true
   },
   "outputs": [
    {
     "name": "stdout",
     "output_type": "stream",
     "text": [
      "london\n",
      "Empty DataFrame\n",
      "Columns: [temp, dt, today_x, today_y, _merge]\n",
      "Index: []\n",
      "madrid\n",
      "Empty DataFrame\n",
      "Columns: [temp, dt, today_x, today_y, _merge]\n",
      "Index: []\n",
      "saopaulo\n",
      "Empty DataFrame\n",
      "Columns: [temp, dt, today_x, today_y, _merge]\n",
      "Index: []\n",
      "sydney\n",
      "      temp          dt today_x     today_y      _merge\n",
      "1951   NaN  1612969200     NaN  2021-02-10  right_only\n",
      "1964   NaN  1613109600     NaN  2021-02-12  right_only\n",
      "1998   NaN  1613476800     NaN  2021-02-16  right_only\n",
      "newyork\n",
      "Empty DataFrame\n",
      "Columns: [temp, dt, today_x, today_y, _merge]\n",
      "Index: []\n",
      "moscow\n",
      "Empty DataFrame\n",
      "Columns: [temp, dt, today_x, today_y, _merge]\n",
      "Index: []\n",
      "tokyo\n",
      "Empty DataFrame\n",
      "Columns: [temp, dt, today_x, today_y, _merge]\n",
      "Index: []\n",
      "nairobi\n",
      "     temp          dt today_x     today_y      _merge\n",
      "131   NaN  1613131200     NaN  2021-02-12  right_only\n",
      "asuncion\n",
      "     temp          dt today_x     today_y      _merge\n",
      "126   NaN  1613077200     NaN  2021-02-11  right_only\n",
      "131   NaN  1613131200     NaN  2021-02-12  right_only\n",
      "140   NaN  1613228400     NaN  2021-02-13  right_only\n",
      "163   NaN  1613476800     NaN  2021-02-16  right_only\n",
      "164   NaN  1613487600     NaN  2021-02-16  right_only\n",
      "172   NaN  1613574000     NaN  2021-02-17  right_only\n",
      "182   NaN  1613682000     NaN  2021-02-18  right_only\n",
      "184   NaN  1613703600     NaN  2021-02-19  right_only\n",
      "196   NaN  1613833200     NaN  2021-02-20  right_only\n",
      "lagos\n",
      "     temp          dt today_x     today_y      _merge\n",
      "111   NaN  1612915200     NaN  2021-02-10  right_only\n",
      "116   NaN  1612969200     NaN  2021-02-10  right_only\n",
      "127   NaN  1613088000     NaN  2021-02-12  right_only\n",
      "135   NaN  1613174400     NaN  2021-02-13  right_only\n",
      "148   NaN  1613314800     NaN  2021-02-14  right_only\n",
      "154   NaN  1613379600     NaN  2021-02-15  right_only\n"
     ]
    }
   ],
   "source": [
    "for city in rconf.cities.values():\n",
    "    print(city.name)\n",
    "    print(rdq.missing_temps(city, 'temp', end_dt=dt.datetime.combine(dt.date.today(), dt.time.min, dt.timezone.utc)))"
   ]
  },
  {
   "cell_type": "markdown",
   "metadata": {},
   "source": [
    "### Unexpected temperatures\n",
    "\n",
    "Finds temperatures recorded at the wrong dts, namely, any dt other than the ones corresponding to the times 0,3,6,9,12,15,18,21 of each day.\n",
    "\n",
    "Again, the only case is New York, and now it is clear why we found a missing temperature previously. The temperature, instead was not recorded at `1593475200` but 2 seconds later at `1593475202`"
   ]
  },
  {
   "cell_type": "code",
   "execution_count": 8,
   "metadata": {
    "scrolled": true
   },
   "outputs": [
    {
     "name": "stdout",
     "output_type": "stream",
     "text": [
      "london\n",
      "Empty DataFrame\n",
      "Columns: [temp, dt, today_x, today_y, _merge]\n",
      "Index: []\n",
      "madrid\n",
      "Empty DataFrame\n",
      "Columns: [temp, dt, today_x, today_y, _merge]\n",
      "Index: []\n",
      "saopaulo\n",
      "Empty DataFrame\n",
      "Columns: [temp, dt, today_x, today_y, _merge]\n",
      "Index: []\n",
      "sydney\n",
      "       temp          dt     today_x today_y     _merge\n",
      "1951  19.60  1612969258  2021-02-10     NaN  left_only\n",
      "1964  33.76  1613109633  2021-02-12     NaN  left_only\n",
      "1998  20.26  1613476843  2021-02-16     NaN  left_only\n",
      "newyork\n",
      "Empty DataFrame\n",
      "Columns: [temp, dt, today_x, today_y, _merge]\n",
      "Index: []\n",
      "moscow\n",
      "Empty DataFrame\n",
      "Columns: [temp, dt, today_x, today_y, _merge]\n",
      "Index: []\n",
      "tokyo\n",
      "Empty DataFrame\n",
      "Columns: [temp, dt, today_x, today_y, _merge]\n",
      "Index: []\n",
      "nairobi\n",
      "      temp          dt     today_x today_y     _merge\n",
      "131  25.15  1613131249  2021-02-12     NaN  left_only\n",
      "asuncion\n",
      "     temp          dt     today_x today_y     _merge\n",
      "126  27.0  1613077231  2021-02-11     NaN  left_only\n",
      "131  24.0  1613131331  2021-02-12     NaN  left_only\n",
      "140  30.0  1613228435  2021-02-13     NaN  left_only\n",
      "163  27.0  1613476865  2021-02-16     NaN  left_only\n",
      "164  30.0  1613487728  2021-02-16     NaN  left_only\n",
      "172  29.0  1613574037  2021-02-17     NaN  left_only\n",
      "182  32.0  1613682036  2021-02-18     NaN  left_only\n",
      "184  23.0  1613703667  2021-02-19     NaN  left_only\n",
      "196  30.0  1613833250  2021-02-20     NaN  left_only\n",
      "212  33.0  1614006033  2021-02-22     NaN  left_only\n",
      "lagos\n",
      "      temp          dt     today_x today_y     _merge\n",
      "111  28.25  1612915233  2021-02-10     NaN  left_only\n",
      "116  29.88  1612969259  2021-02-10     NaN  left_only\n",
      "127  28.00  1613088033  2021-02-12     NaN  left_only\n",
      "135  28.00  1613174434  2021-02-13     NaN  left_only\n",
      "148  34.00  1613314849  2021-02-14     NaN  left_only\n",
      "154  28.80  1613379636  2021-02-15     NaN  left_only\n"
     ]
    }
   ],
   "source": [
    "for city in rconf.cities.values():\n",
    "    print(city.name)\n",
    "    print(rdq.unexpected_temps(city, 'temp', end_dt=dt.datetime.combine(dt.date.today() + dt.timedelta(1), dt.time.min, dt.timezone.utc)))"
   ]
  },
  {
   "cell_type": "markdown",
   "metadata": {},
   "source": [
    "### Temperatures without the 5 forecasts\n",
    "Finds dts for which all five forecasts were not made.\n",
    "Obviously, the first 5 days after starting to take measurements cannot have all the 5 previous forecasts.\n",
    "\n",
    "In addition, the following cities failed to collect all 5 forecasts during the periods:\n",
    "\n",
    "- Madrid, between 2020-10-06 and 2020-10-10\n",
    "- Sao Paulo, betwen 2020-10-26 and 2020-10-30\n",
    "\n",
    "That means that Madrid must have failed to record the forecast on 2020-10-05 and Sao Paulo on 2020-10-25 "
   ]
  },
  {
   "cell_type": "code",
   "execution_count": 9,
   "metadata": {},
   "outputs": [
    {
     "name": "stdout",
     "output_type": "stream",
     "text": [
      "london\n",
      "today_y\n",
      "2019-11-28    7\n",
      "2019-11-29    8\n",
      "2019-11-30    8\n",
      "2019-12-01    8\n",
      "2019-12-02    8\n",
      "Name: _merge, dtype: int64\n",
      "madrid\n",
      "today_y\n",
      "2020-06-11    2\n",
      "2020-06-12    8\n",
      "2020-06-13    8\n",
      "2020-06-14    8\n",
      "2020-06-15    8\n",
      "2020-10-06    8\n",
      "2020-10-07    8\n",
      "2020-10-08    8\n",
      "2020-10-09    8\n",
      "2020-10-10    8\n",
      "Name: _merge, dtype: int64\n",
      "saopaulo\n",
      "today_y\n",
      "2020-06-11    2\n",
      "2020-06-12    8\n",
      "2020-06-13    8\n",
      "2020-06-14    8\n",
      "2020-06-15    8\n",
      "2020-10-26    8\n",
      "2020-10-27    8\n",
      "2020-10-28    8\n",
      "2020-10-29    8\n",
      "2020-10-30    8\n",
      "Name: _merge, dtype: int64\n",
      "sydney\n",
      "today_y\n",
      "2020-06-11    2\n",
      "2020-06-12    8\n",
      "2020-06-13    8\n",
      "2020-06-14    8\n",
      "2020-06-15    8\n",
      "2021-01-25    8\n",
      "2021-01-26    8\n",
      "2021-01-27    8\n",
      "2021-01-28    8\n",
      "2021-01-29    8\n",
      "2021-02-10    1\n",
      "2021-02-12    1\n",
      "2021-02-16    1\n",
      "Name: _merge, dtype: int64\n",
      "newyork\n",
      "today_y\n",
      "2020-06-11    2\n",
      "2020-06-12    8\n",
      "2020-06-13    8\n",
      "2020-06-14    8\n",
      "2020-06-15    8\n",
      "2021-01-22    8\n",
      "2021-01-23    8\n",
      "2021-01-24    8\n",
      "2021-01-25    8\n",
      "2021-01-26    8\n",
      "Name: _merge, dtype: int64\n",
      "moscow\n",
      "today_y\n",
      "2021-01-27    7\n",
      "2021-01-28    8\n",
      "2021-01-29    8\n",
      "2021-01-30    8\n",
      "2021-01-31    8\n",
      "Name: _merge, dtype: int64\n",
      "tokyo\n",
      "today_y\n",
      "2021-01-27    7\n",
      "2021-01-28    8\n",
      "2021-01-29    8\n",
      "2021-01-30    8\n",
      "2021-01-31    8\n",
      "Name: _merge, dtype: int64\n",
      "nairobi\n",
      "today_y\n",
      "2021-01-27    7\n",
      "2021-01-28    8\n",
      "2021-01-29    8\n",
      "2021-01-30    8\n",
      "2021-01-31    8\n",
      "2021-02-12    1\n",
      "Name: _merge, dtype: int64\n",
      "asuncion\n",
      "today_y\n",
      "2021-01-27    7\n",
      "2021-01-28    8\n",
      "2021-01-29    8\n",
      "2021-01-30    8\n",
      "2021-01-31    8\n",
      "2021-02-11    1\n",
      "2021-02-12    1\n",
      "2021-02-13    1\n",
      "2021-02-16    2\n",
      "2021-02-17    1\n",
      "2021-02-18    1\n",
      "2021-02-19    1\n",
      "2021-02-20    1\n",
      "Name: _merge, dtype: int64\n",
      "lagos\n",
      "today_y\n",
      "2021-01-27    7\n",
      "2021-01-28    8\n",
      "2021-01-29    8\n",
      "2021-01-30    8\n",
      "2021-01-31    8\n",
      "2021-02-10    2\n",
      "2021-02-12    1\n",
      "2021-02-13    1\n",
      "2021-02-14    1\n",
      "2021-02-15    1\n",
      "Name: _merge, dtype: int64\n"
     ]
    }
   ],
   "source": [
    "for city in rconf.cities.values():\n",
    "    print(city.name)\n",
    "    print(rdq.temps_without_five_forecasts(city, 'temp', end_dt=dt.datetime.combine(dt.date.today(), dt.time.min, dt.timezone.utc)).groupby('today_y').count()['_merge'])"
   ]
  },
  {
   "cell_type": "markdown",
   "metadata": {},
   "source": [
    "### Missing forecasts\n",
    "And here we can see that, as predicted, Madrid and Sao Paulo did not record those forecasts."
   ]
  },
  {
   "cell_type": "code",
   "execution_count": 10,
   "metadata": {},
   "outputs": [
    {
     "name": "stdout",
     "output_type": "stream",
     "text": [
      "london\n",
      "[]\n",
      "madrid\n",
      "['2020-10-05']\n",
      "saopaulo\n",
      "['2020-10-25']\n",
      "sydney\n",
      "['2021-01-24']\n",
      "newyork\n",
      "['2021-01-21']\n",
      "moscow\n",
      "[]\n",
      "tokyo\n",
      "[]\n",
      "nairobi\n",
      "[]\n",
      "asuncion\n",
      "[]\n",
      "lagos\n",
      "[]\n"
     ]
    }
   ],
   "source": [
    "for city in rconf.cities.values():\n",
    "    print(city.name)\n",
    "    print(rdq.missing_forecasts(city, 'temp', end_dt=dt.datetime.combine(dt.date.today(), dt.time.min, dt.timezone.utc)))"
   ]
  },
  {
   "cell_type": "markdown",
   "metadata": {},
   "source": [
    "<a id=\"actual_vs_forecast\"></a>\n",
    "## Actual vs Forecast temperature"
   ]
  },
  {
   "cell_type": "code",
   "execution_count": 16,
   "metadata": {},
   "outputs": [
    {
     "data": {
      "application/vnd.jupyter.widget-view+json": {
       "model_id": "24dec2e3b09e4c92a78757bc35478e58",
       "version_major": 2,
       "version_minor": 0
      },
      "text/plain": [
       "Canvas(toolbar=Toolbar(toolitems=[('Home', 'Reset original view', 'home', 'home'), ('Back', 'Back to previous …"
      ]
     },
     "metadata": {},
     "output_type": "display_data"
    },
    {
     "data": {
      "application/vnd.jupyter.widget-view+json": {
       "model_id": "01d750ba24db4e38b6ca23e260ebb90a",
       "version_major": 2,
       "version_minor": 0
      },
      "text/plain": [
       "interactive(children=(IntSlider(value=15, description='days', max=30), Dropdown(description='city_name', optio…"
      ]
     },
     "metadata": {},
     "output_type": "display_data"
    }
   ],
   "source": [
    "fig, ax = plt.subplots()\n",
    "@widgets.interact(days=(0, 30, 1), city_name=[city.name for city in rconf.cities.values()], tn=['t1','t2','t3','t4','t5'], weather_var=[wvar for wvar in rconf.weather_variables.values()])\n",
    "def plot_true_vs_forecast(days: int, city_name: str, tn: str, weather_var: str): \n",
    "    plt.grid(True)\n",
    "    city = rconf.cities[city_name]\n",
    "    files = rdq.load_csv_files(city, weather_var)\n",
    "    N = files[\"join_data_df\"].shape[0]\n",
    "    min_x = N-(rconf.day_factor*days)\n",
    "    max_x = N\n",
    "    x = np.linspace(0,max_x-min_x,max_x-min_x)\n",
    "    plt.xlim(0, max_x-min_x)\n",
    "    [l.remove() for l in ax.lines]\n",
    "    [l.remove() for l in ax.lines]\n",
    "    plt.plot(x, files[\"join_data_df\"][weather_var][min_x:max_x], label=f'true {weather_var}', color='green', marker=\"o\")\n",
    "    plt.plot(x, files[\"join_data_df\"][tn][min_x:max_x], label=tn, color='red', marker='*')\n",
    "    plt.title(f\"{city_name}: t vs {tn} (last {days} days)\")\n",
    "    plt.legend()\n",
    "#     ax.show()\n",
    "#     print([l for l in ax.lines])"
   ]
  },
  {
   "cell_type": "markdown",
   "metadata": {},
   "source": [
    "<a id=\"metrics_comparison\"></a>\n",
    "## Metrics comparison\n",
    "\n",
    "In all cases, `medae < mae < rmse`"
   ]
  },
  {
   "cell_type": "code",
   "execution_count": 12,
   "metadata": {},
   "outputs": [
    {
     "data": {
      "application/vnd.jupyter.widget-view+json": {
       "model_id": "ee09c90c27a44b33b2e98a27360e0228",
       "version_major": 2,
       "version_minor": 0
      },
      "text/plain": [
       "Canvas(toolbar=Toolbar(toolitems=[('Home', 'Reset original view', 'home', 'home'), ('Back', 'Back to previous …"
      ]
     },
     "metadata": {},
     "output_type": "display_data"
    },
    {
     "data": {
      "application/vnd.jupyter.widget-view+json": {
       "model_id": "67701aaa4a4f4c248285114e96fcbcf0",
       "version_major": 2,
       "version_minor": 0
      },
      "text/plain": [
       "interactive(children=(Dropdown(description='city_name', options=('london', 'madrid', 'saopaulo', 'sydney', 'ne…"
      ]
     },
     "metadata": {},
     "output_type": "display_data"
    }
   ],
   "source": [
    "fig, ax = plt.subplots()\n",
    "\n",
    "@widgets.interact(city_name=[city.name for city in rconf.cities.values()], weather_var=[wvar for wvar in rconf.weather_variables.values()])\n",
    "def plot_metrics(city_name: str, weather_var: str):\n",
    "    plt.grid(True)\n",
    "    city = rconf.cities[city_name]\n",
    "    files = rdq.load_csv_files(city, weather_var)\n",
    "    # plt.rcParams['figure.figsize'] = (7,3)\n",
    "    x = np.linspace(0,1,5)\n",
    "    ax.set_xticks(x)\n",
    "    ax.set_xticklabels(['t5', 't4', 't3', 't2', 't1'])\n",
    "    [l.remove() for l in ax.lines]\n",
    "    [l.remove() for l in ax.lines]\n",
    "    [l.remove() for l in ax.lines]\n",
    "    plt.plot(x, files[\"metrics_df\"]['mae'], label='mae', color='blue', marker='o')\n",
    "    plt.plot(x, files[\"metrics_df\"]['rmse'], label='rmse', color='grey', marker='^')\n",
    "    plt.plot(x, files[\"metrics_df\"]['medae'], label='medae', color='red', marker='*')\n",
    "    plt.title(f\"metrics - {city_name}\")\n",
    "    plt.legend()\n",
    "#     plt.show()"
   ]
  },
  {
   "cell_type": "code",
   "execution_count": 13,
   "metadata": {
    "scrolled": true
   },
   "outputs": [
    {
     "data": {
      "application/vnd.jupyter.widget-view+json": {
       "model_id": "9232c3f666c84744ab2591697197cc1b",
       "version_major": 2,
       "version_minor": 0
      },
      "text/plain": [
       "Canvas(toolbar=Toolbar(toolitems=[('Home', 'Reset original view', 'home', 'home'), ('Back', 'Back to previous …"
      ]
     },
     "metadata": {},
     "output_type": "display_data"
    },
    {
     "data": {
      "application/vnd.jupyter.widget-view+json": {
       "model_id": "d1d63cf87d7342228b84608a7fd8cdd9",
       "version_major": 2,
       "version_minor": 0
      },
      "text/plain": [
       "interactive(children=(Dropdown(description='city_name', options=('london', 'madrid', 'saopaulo', 'sydney', 'ne…"
      ]
     },
     "metadata": {},
     "output_type": "display_data"
    }
   ],
   "source": [
    "fig, ax = plt.subplots()\n",
    "\n",
    "@widgets.interact(city_name=[city.name for city in rconf.cities.values()], weather_var=[wvar for wvar in rconf.weather_variables.values()])\n",
    "def plot_scaled_error(city_name: str, weather_var: str):\n",
    "    plt.grid(True)\n",
    "    city = rconf.cities[city_name]\n",
    "    files = rdq.load_csv_files(city, weather_var)\n",
    "    x = np.linspace(0,1,5)\n",
    "    ax.set_xticks(x)\n",
    "    ax.set_xticklabels(['t5', 't4', 't3', 't2', 't1'])\n",
    "    [l.remove() for l in ax.lines]\n",
    "    [l.remove() for l in ax.lines]\n",
    "    plt.plot(x, files[\"metrics_df\"]['mase'], label='mase', color='blue', marker='o')\n",
    "    plt.plot(x, files[\"metrics_df\"]['mase1y'], label='mase1y', color='black', marker='*')\n",
    "#     plt.plot(x, df[\"metrics_df\"]['mase1y_avg'], label='mase1y_avg', color='black', marker='o')\n",
    "    plt.plot(x, np.ones(5), label='1', color='red')\n",
    "    plt.title(f\"Mean Absolute Scaled Error - {city_name}\")\n",
    "    plt.legend()\n",
    "#     plt.show()\n",
    "    "
   ]
  },
  {
   "cell_type": "markdown",
   "metadata": {},
   "source": [
    "<a id=\"cities_comparison\"></a>\n",
    "## Cities comparison"
   ]
  },
  {
   "cell_type": "code",
   "execution_count": 14,
   "metadata": {
    "scrolled": true
   },
   "outputs": [
    {
     "data": {
      "application/vnd.jupyter.widget-view+json": {
       "model_id": "069bb2f9e7ae46918e031fda4d596ce8",
       "version_major": 2,
       "version_minor": 0
      },
      "text/plain": [
       "Canvas(toolbar=Toolbar(toolitems=[('Home', 'Reset original view', 'home', 'home'), ('Back', 'Back to previous …"
      ]
     },
     "metadata": {},
     "output_type": "display_data"
    },
    {
     "data": {
      "application/vnd.jupyter.widget-view+json": {
       "model_id": "6a3880d9905d4cf6a44774d5c9beea0a",
       "version_major": 2,
       "version_minor": 0
      },
      "text/plain": [
       "interactive(children=(Dropdown(description='metric', options=('mase', 'mae', 'rmse', 'medae'), value='mase'), …"
      ]
     },
     "metadata": {},
     "output_type": "display_data"
    }
   ],
   "source": [
    "fig, ax = plt.subplots()\n",
    "\n",
    "@widgets.interact(metric=['mase', 'mae', 'rmse', 'medae'], weather_var=[wvar for wvar in rconf.weather_variables.values()])\n",
    "def plot_cities(metric, weather_var):\n",
    "    plt.grid(True)\n",
    "    # plt.rcParams['figure.figsize'] = (7,3)\n",
    "    colors = ['blue', 'red', 'green', 'black', 'purple']\n",
    "    x = np.linspace(0,1,5)\n",
    "    ax.set_xticks(x)\n",
    "    ax.set_xticklabels(['t5', 't4', 't3', 't2', 't1'])\n",
    "    idx = 0\n",
    "#     plt.plot(x, np.ones(5), label='1', color='red')\n",
    "    for city in rconf.cities.values():\n",
    "        [l.remove() for l in ax.lines]\n",
    "    for city in rconf.cities.values():\n",
    "        files = rdq.load_csv_files(city, weather_var)    \n",
    "        plt.plot(x, files[\"metrics_df\"][metric], label=city.name, marker='o')\n",
    "        idx += 1\n",
    "    plt.title(metric)\n",
    "    plt.legend()\n",
    "#     plt.show()"
   ]
  }
 ],
 "metadata": {
  "file_extension": ".py",
  "kernelspec": {
   "display_name": "Python 3",
   "language": "python",
   "name": "python3"
  },
  "language_info": {
   "codemirror_mode": {
    "name": "ipython",
    "version": 3
   },
   "file_extension": ".py",
   "mimetype": "text/x-python",
   "name": "python",
   "nbconvert_exporter": "python",
   "pygments_lexer": "ipython3",
   "version": "3.8.5"
  },
  "mimetype": "text/x-python",
  "name": "python",
  "npconvert_exporter": "python",
  "pygments_lexer": "ipython3",
  "version": 3
 },
 "nbformat": 4,
 "nbformat_minor": 2
}
